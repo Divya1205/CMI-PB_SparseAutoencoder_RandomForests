{
 "cells": [
  {
   "cell_type": "code",
   "execution_count": 2,
   "id": "ad4bc393-eb21-44ce-a09c-1867a911d8b2",
   "metadata": {},
   "outputs": [
    {
     "name": "stdout",
     "output_type": "stream",
     "text": [
      "All files downloaded successfully!\n"
     ]
    }
   ],
   "source": [
    "import requests\n",
    "from bs4 import BeautifulSoup\n",
    "import os\n",
    "\n",
    "# Base URL of the directory\n",
    "base_url = 'https://www.cmi-pb.org/downloads/cmipb_challenge_datasets/current/'\n",
    "\n",
    "# Directory to save files\n",
    "output_dir = 'C:/Users/divyas/Documents/hackathons/CMI-PB/Data'\n",
    "if not os.path.exists(output_dir):\n",
    "    os.makedirs(output_dir)\n",
    "\n",
    "# Get the HTML content of the directory\n",
    "response = requests.get(base_url)\n",
    "soup = BeautifulSoup(response.content, 'html.parser')\n",
    "\n",
    "# Find all links in the page\n",
    "links = soup.find_all('a')\n",
    "\n",
    "# Print all the links to inspect them\n",
    "for link in links:\n",
    "    print(link)\n",
    "\n",
    "print(\"Links printed above\")\n"
   ]
  },
  {
   "cell_type": "code",
   "execution_count": null,
   "id": "62baedb9-2b90-48ac-bb12-3b466b1e258c",
   "metadata": {},
   "outputs": [],
   "source": []
  }
 ],
 "metadata": {
  "kernelspec": {
   "display_name": "Python 3 (ipykernel)",
   "language": "python",
   "name": "python3"
  },
  "language_info": {
   "codemirror_mode": {
    "name": "ipython",
    "version": 3
   },
   "file_extension": ".py",
   "mimetype": "text/x-python",
   "name": "python",
   "nbconvert_exporter": "python",
   "pygments_lexer": "ipython3",
   "version": "3.8.19"
  }
 },
 "nbformat": 4,
 "nbformat_minor": 5
}
